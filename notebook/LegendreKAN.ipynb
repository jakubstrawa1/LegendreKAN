{
  "nbformat": 4,
  "nbformat_minor": 0,
  "metadata": {
    "colab": {
      "provenance": [],
      "toc_visible": true
    },
    "kernelspec": {
      "name": "python3",
      "display_name": "Python 3"
    },
    "language_info": {
      "name": "python"
    }
  },
  "cells": [
    {
      "cell_type": "markdown",
      "source": [
        "# Legendre KAN"
      ],
      "metadata": {
        "id": "SPZ36WLJVepV"
      }
    },
    {
      "cell_type": "markdown",
      "source": [
        "##Legendre basis function up til 4th degree\n",
        "\n",
        "    \"\"\"\n",
        "    Returns tensor B ∈ ℝ^{…, degree+1} with P̃0 … P̃_degree evaluated at x.\n",
        "    (All five polynomials are computed, then trimmed for simplicity.)\n",
        "\n",
        "    #     P̃0(x) = 1                                     (identity)\n",
        "    #     P̃1(x) = √3 (2x − 1)                           (~mean)\n",
        "    #     P̃2(x) = √5 (6x² − 6x + 1)                     (~variance)\n",
        "    #     P̃3(x) = √7 (20x³ − 30x² + 12x − 1)            (~skewness)\n",
        "    #     P̃4(x) = 3  (70x⁴ − 140x³ + 90x² − 20x + 1)    (~kurtosis)\n",
        "\n",
        "    \"\"\""
      ],
      "metadata": {
        "id": "DB2CwGl7Vo3P"
      }
    },
    {
      "cell_type": "code",
      "source": [
        "import torch, torch.nn as nn\n",
        "import math\n",
        "\n",
        "\n",
        "SQRT3, SQRT5, SQRT7 = map(math.sqrt, (3.0, 5.0, 7.0))\n",
        "\n",
        "#Main table for\n",
        "table = torch.tensor(\n",
        "    [\n",
        "        [1.0,               0.0,               0.0,               0.0,               0.0],\n",
        "        [-SQRT3,            2 * SQRT3,         0.0,               0.0,               0.0],\n",
        "        [SQRT5,            -6 * SQRT5,         6 * SQRT5,         0.0,               0.0],\n",
        "        [-SQRT7,           12 * SQRT7,        -30 * SQRT7,        20 * SQRT7,        0.0],\n",
        "        [3.0,             -60.0,             270.0,             -420.0,             210.0],\n",
        "    ],\n",
        "    dtype=torch.float32,\n",
        ")\n",
        "\n",
        "def _make_legendre_polynomials(max_degree: int = 4, *, dtype=torch.float32):\n",
        "    return table[: max_degree + 1, : max_degree + 1]\n"
      ],
      "metadata": {
        "id": "Ic0XgB_kVnlg"
      },
      "execution_count": null,
      "outputs": []
    },
    {
      "cell_type": "markdown",
      "source": [
        "##KAN Layer\n",
        "    \"\"\"\n",
        "    KAN building-block that projects each input feature onto the first\n",
        "    (degree+1) shifted/orthonormal Legendre polynomials listed above.\n",
        "    \"\"\""
      ],
      "metadata": {
        "id": "T43KplEAYFH6"
      }
    },
    {
      "cell_type": "code",
      "source": [
        "class LegendreKANLayer(nn.Module):\n",
        "    MAX_DEGREE = 4\n",
        "\n",
        "    def __init__(self, input_dim: int, output_dim: int, degree: int = 4, shifted=False):\n",
        "        super().__init__()\n",
        "\n",
        "        if not (0 <= degree <= self.MAX_DEGREE):\n",
        "            raise ValueError(f\"`degree` must be in [0, {self.MAX_DEGREE}]\")\n",
        "\n",
        "        self.input_dim = input_dim\n",
        "        self.output_dim = output_dim\n",
        "        self.degree = degree\n",
        "\n",
        "        leg_table = _make_legendre_polynomials(self.MAX_DEGREE, dtype=torch.get_default_dtype())\n",
        "        self.register_buffer(\"legendre_table\", leg_table, persistent=False)  # 5×5\n",
        "\n",
        "        self.legendre_coeffs = nn.Parameter(\n",
        "            torch.empty(input_dim, output_dim, degree + 1)\n",
        "        )\n",
        "        nn.init.normal_(\n",
        "            self.legendre_coeffs,\n",
        "            mean=0.0,\n",
        "            std=1 / (input_dim * (degree + 1)),\n",
        "        )\n",
        "\n",
        "    def _legendre_basis(self, x: torch.Tensor) -> torch.Tensor:\n",
        "        \"\"\"\n",
        "        Compute [P0(x) … P_degree(x)] for every feature value in `x`.\n",
        "\n",
        "        x : (batch, input_dim) already scaled to [0, 1]\n",
        "        returns : (batch, input_dim, degree+1)\n",
        "        \"\"\"\n",
        "        powers = x.unsqueeze(-1) ** torch.arange(0, self.MAX_DEGREE + 1,\n",
        "                                                 device=x.device,\n",
        "                                                 dtype=x.dtype)            # (B, I, 5)\n",
        "\n",
        "        basis_full = torch.matmul(powers, self.legendre_table.t())          # (B, I, 5)\n",
        "        return basis_full[..., : self.degree + 1]                           # (B, I, D+1)\n",
        "\n",
        "    def forward(self, x: torch.Tensor) -> torch.Tensor:\n",
        "        \"\"\"\n",
        "        x : (batch, input_dim) already scaled to [0, 1]\n",
        "        returns : (batch, output_dim)\n",
        "        \"\"\"\n",
        "        if x.shape[-1] != self.input_dim:\n",
        "            raise ValueError(\n",
        "                f\"Expected last dimension = {self.input_dim}, got {x.shape[-1]}\"\n",
        "            )\n",
        "\n",
        "        basis = self._legendre_basis(x)\n",
        "        return torch.einsum(\"bid,iod->bo\", basis, self.legendre_coeffs)\n"
      ],
      "metadata": {
        "id": "XGX6zzchYIoA"
      },
      "execution_count": null,
      "outputs": []
    },
    {
      "cell_type": "markdown",
      "source": [
        "##Normalizers\n",
        "\n",
        "Gaussian CDF Norm:\n",
        "1. first standardize each feature (z)\n",
        "2. Apply normal CDF (u = 1/2 * (1+ erf(z/sqr(2))))\n",
        "3. Apply learnable parameters if affine set to true. (u = u*weight + bias)\n",
        "\n",
        "\n",
        "Empirical CDF Norm:\n",
        "1. sort each feature in the mini-batch\n",
        "2. replace each value by its rank divided by N (N is numbers of examples in the mini_batch, so essentialy .shape[0])"
      ],
      "metadata": {
        "id": "DZuUKBcRmdCn"
      }
    },
    {
      "cell_type": "code",
      "source": [
        "class GaussianCDFNorm(nn.Module):\n",
        "    def __init__(self, unbiased: bool = True, affine: bool = False,\n",
        "                 eps: float = 1e-5):\n",
        "        super().__init__()\n",
        "        self.unbiased = unbiased\n",
        "        self.eps = eps\n",
        "\n",
        "        #affine means stat-only, no learnable params for the sake of research\n",
        "        if affine:\n",
        "            self.weight = nn.Parameter(torch.ones(1))  # broadcast over features\n",
        "            self.bias   = nn.Parameter(torch.zeros(1))\n",
        "        else:\n",
        "            self.register_parameter(\"weight\", None)\n",
        "            self.register_parameter(\"bias\",   None)\n",
        "\n",
        "    def forward(self, x: torch.Tensor) -> torch.Tensor:\n",
        "        mu  = x.mean(dim=0, keepdim=True)\n",
        "        var = x.var(dim=0, unbiased=self.unbiased, keepdim=True)\n",
        "        z   = (x - mu) / (var + self.eps).sqrt()\n",
        "\n",
        "        u = 0.5 * (1.0 + torch.erf(z / math.sqrt(2.0)))\n",
        "\n",
        "        if self.weight is not None:\n",
        "            u = u * self.weight + self.bias\n",
        "        return u\n",
        "\n",
        "\n",
        "class EmpiricalCDFNorm(nn.Module):\n",
        "    def __init__(self):\n",
        "        super().__init__()\n",
        "\n",
        "    def forward(self, x: torch.Tensor) -> torch.Tensor:\n",
        "        sorted_x, _ = torch.sort(x, dim=0)\n",
        "        idx = torch.searchsorted(sorted_x, x)\n",
        "        N   = x.shape[0]\n",
        "        return (idx.to(x.dtype) + 0.5) / N"
      ],
      "metadata": {
        "id": "BA7nHYU6WMEe"
      },
      "execution_count": null,
      "outputs": []
    },
    {
      "cell_type": "markdown",
      "source": [
        "## KAN Architecture\n",
        "\n",
        "Now this is a bit tricky. I applied the possibliity to switch between gaussian and empirical as the normalizer.\n",
        "\n",
        "Current architecture looks like this:\n",
        "1. Normalize any input to [0,1]\n",
        "2. Perform KAN Layer (calculate the output of legendre polynomials on the data)\n",
        "3. Again normalize the output to [0,1]\n",
        "4. Perform KAN Layer (calculate the output of legendre polynomials on the data)\n",
        "5. Again normalize the output to [0,1]\n",
        "6. Perform KAN Layer (calculate the output of legendre polynomials on the data)\n",
        "\n",
        "Here to be honest im not sure about the architecture, i'd love to get some pointers. Should inter-layer normalizations stay the same as the first normalization? Jarek talked about this calibration, but i believe the calibration should happen only after 25 degrees? or sth like that\n",
        "\n"
      ],
      "metadata": {
        "id": "fB4H8CdQm4eF"
      }
    },
    {
      "cell_type": "code",
      "source": [
        "from typing import Literal\n",
        "import torch.nn as nn\n",
        "\n",
        "class LegendreKAN(nn.Module):\n",
        "    \"\"\"\n",
        "    Legendre Kernel Adaptive Network (KAN)\n",
        "\n",
        "    Args\n",
        "    ----\n",
        "    norm : {\"gaussian\", \"empirical\"}\n",
        "        Inter-layer normalisation strategy.\n",
        "    degree : int\n",
        "        Degree of the Legendre polynomial basis.\n",
        "    shifted : bool\n",
        "        Whether to use shifted Legendre polynomials (domain [0,1] instead of [-1,1]).\n",
        "    \"\"\"\n",
        "    def __init__(\n",
        "        self,\n",
        "        norm: Literal[\"gaussian\", \"empirical\"] = \"gaussian\",\n",
        "        degree: int = 4,\n",
        "        shifted: bool = False\n",
        "    ):\n",
        "        super().__init__()\n",
        "        self.shifted = shifted\n",
        "\n",
        "        def _make_norm():\n",
        "            if norm == \"gaussian\":\n",
        "                return GaussianCDFNorm(unbiased=False)\n",
        "            elif norm == \"empirical\":\n",
        "                return EmpiricalCDFNorm()\n",
        "            else:\n",
        "                raise ValueError(f\"norm must be 'gaussian' or 'empirical', got {norm!r}\")\n",
        "\n",
        "        self.norm0 = _make_norm()\n",
        "        self.kan1  = LegendreKANLayer(28 * 28, 32, degree, shifted=self.shifted)\n",
        "        self.norm1 = _make_norm()\n",
        "\n",
        "        self.kan2  = LegendreKANLayer(32, 16, degree, shifted=self.shifted)\n",
        "        self.norm2 = _make_norm()\n",
        "\n",
        "        self.kan3  = LegendreKANLayer(16, 10, degree, shifted=self.shifted)\n",
        "\n",
        "    def forward(self, x: torch.Tensor) -> torch.Tensor:\n",
        "        x = self.norm0(x)\n",
        "        x = self.kan1(x)\n",
        "        x = self.norm1(x)\n",
        "        x = self.kan2(x)\n",
        "        x = self.norm2(x)\n",
        "        x = self.kan3(x)\n",
        "        return x\n"
      ],
      "metadata": {
        "id": "Fl_IzhZ3mvky"
      },
      "execution_count": null,
      "outputs": []
    },
    {
      "cell_type": "markdown",
      "source": [
        "#Smoke tests for normalizations"
      ],
      "metadata": {
        "id": "lAEJtZP-Yrg3"
      }
    },
    {
      "cell_type": "code",
      "source": [
        "\n",
        "import torch, torch.nn as nn\n",
        "import matplotlib.pyplot as plt\n",
        "\n",
        "N   = 100\n",
        "torch.manual_seed(0)\n",
        "dat = torch.randn(N)\n",
        "\n",
        "gcn = GaussianCDFNorm(unbiased=False) #match with the Jarek's Mathematica code.\n",
        "ecn = EmpiricalCDFNorm()\n",
        "\n",
        "with torch.no_grad():\n",
        "    u_g = gcn(dat)\n",
        "    u_e = ecn(dat)\n",
        "\n",
        "x_sorted, idx = torch.sort(dat)          # x(1) ≤ … ≤ x(N) sorting because matplotlib draws it as a polyline.\n",
        "u_g_sorted    = u_g[idx]\n",
        "u_e_sorted    = u_e[idx]\n",
        "\n",
        "plt.figure(figsize=(4,2.8))\n",
        "plt.plot(x_sorted, u_g_sorted, label='GaussianCDFNorm', lw=2)\n",
        "plt.plot(x_sorted, u_e_sorted, label='EmpiricalCDFNorm', lw=2, alpha=.8)\n",
        "plt.xlim(-2, 2); plt.ylim(0, 1)\n",
        "plt.xlabel('x');  plt.ylabel('u = F(x)')\n",
        "plt.title('Normalisation to uniform, GaussCDF vs EmpiricalCDF')\n",
        "plt.legend(); plt.tight_layout()\n",
        "plt.show()\n"
      ],
      "metadata": {
        "colab": {
          "base_uri": "https://localhost:8080/",
          "height": 287
        },
        "id": "OzjRZ4bTQCOV",
        "outputId": "8810ebec-000b-4a4d-d74b-d3d49feedb35"
      },
      "execution_count": null,
      "outputs": [
        {
          "output_type": "display_data",
          "data": {
            "text/plain": [
              "<Figure size 400x280 with 1 Axes>"
            ],
            "image/png": "[encoded data removed]"
          },
          "metadata": {}
        }
      ]
    },
    {
      "cell_type": "markdown",
      "source": [
        "#Training"
      ],
      "metadata": {
        "id": "fSKSoVU5RIuM"
      }
    },
    {
      "cell_type": "markdown",
      "source": [
        "##MNIST"
      ],
      "metadata": {
        "id": "zBoqXQm8RPr_"
      }
    },
    {
      "cell_type": "markdown",
      "source": [
        "###Load the data and helper functions"
      ],
      "metadata": {
        "id": "tL-8KL6dTyls"
      }
    },
    {
      "cell_type": "markdown",
      "source": [
        "Loss Function:\n",
        "- CrossEntropyLoss to compare 2 distributions (negative log likelihood)\n",
        "- utilize Adam as optimizer, and thats pretty much it\n",
        "\n",
        "TODO:\n",
        "- learning-rate warm-up"
      ],
      "metadata": {
        "id": "fCgtsWN9Uvyh"
      }
    },
    {
      "cell_type": "code",
      "source": [
        "import torch, torch.nn as nn, torch.optim as optim\n",
        "from torch.utils.data import DataLoader\n",
        "from torchvision import datasets, transforms\n",
        "\n",
        "\n",
        "#HYPERPARAMETERS\n",
        "BATCH_SIZE   = 128\n",
        "EPOCHS       = 15\n",
        "LR           = 1e-3 #0.001\n",
        "WEIGHT_DECAY = 1e-4 #0.0001\n",
        "\n",
        "\n",
        "transform = transforms.Compose([\n",
        "    transforms.ToTensor(),\n",
        "    transforms.Lambda(lambda x: x.view(-1))\n",
        "])\n",
        "\n",
        "train_ds = datasets.MNIST(root=\"./data\", train=True,  download=True, transform=transform)\n",
        "test_ds  = datasets.MNIST(root=\"./data\", train=False, download=True, transform=transform)\n",
        "\n",
        "train_loader = DataLoader(train_ds, batch_size=BATCH_SIZE, shuffle=True,  num_workers=4, pin_memory=True)\n",
        "test_loader  = DataLoader(test_ds,  batch_size=BATCH_SIZE, shuffle=False, num_workers=4, pin_memory=True)\n",
        "\n",
        "device = torch.device(\"cuda\" if torch.cuda.is_available() else \"cpu\")\n",
        "model  = LegendreKAN(norm=\"gaussian\", degree=4).to(device)\n",
        "\n",
        "opt = optim.Adam(model.parameters(), lr=LR, weight_decay=WEIGHT_DECAY)\n",
        "criterion = nn.CrossEntropyLoss()\n",
        "\n",
        "def accuracy(logits, targets):\n",
        "    return (logits.argmax(dim=1) == targets).float().mean()\n",
        "\n",
        "@torch.no_grad()\n",
        "def evaluate(loader):\n",
        "    model.eval()\n",
        "    total_acc, total_size = 0.0, 0\n",
        "    for x, y in loader:\n",
        "        x, y = x.to(device), y.to(device)\n",
        "        logits = model(x)\n",
        "        total_acc  += accuracy(logits, y) * x.size(0)\n",
        "        total_size += x.size(0)\n",
        "    return (total_acc / total_size).item()"
      ],
      "metadata": {
        "id": "6cRLVbLAROqR"
      },
      "execution_count": null,
      "outputs": []
    },
    {
      "cell_type": "markdown",
      "source": [
        "###run the training loop\n",
        "TODO:\n",
        "- test with shifted polynomials"
      ],
      "metadata": {
        "id": "BI3vi3bdWyED"
      }
    },
    {
      "cell_type": "code",
      "source": [
        "for epoch in range(1, EPOCHS+1):\n",
        "    model.train()\n",
        "    running_loss = 0.0\n",
        "    for x, y in train_loader:\n",
        "        x, y = x.to(device), y.to(device)\n",
        "\n",
        "        opt.zero_grad()\n",
        "        logits = model(x)\n",
        "        loss   = criterion(logits, y)\n",
        "        loss.backward()\n",
        "        opt.step()\n",
        "\n",
        "        running_loss += loss.item() * x.size(0)\n",
        "\n",
        "    train_loss = running_loss / len(train_loader.dataset)\n",
        "    val_acc    = evaluate(test_loader)\n",
        "\n",
        "    print(f\"Epoch {epoch:02d}/{EPOCHS}  \"\n",
        "          f\"loss={train_loss:.4f}  \"\n",
        "          f\"val-acc={val_acc*100:5.2f}%\")"
      ],
      "metadata": {
        "colab": {
          "base_uri": "https://localhost:8080/"
        },
        "id": "ed23GWKFUUPz",
        "outputId": "209a759c-fea2-4d77-9c6e-0f0b1fc57478"
      },
      "execution_count": null,
      "outputs": [
        {
          "output_type": "stream",
          "name": "stdout",
          "text": [
            "Epoch 01/15  loss=0.5552  val-acc=94.00%\n",
            "Epoch 02/15  loss=0.1806  val-acc=94.72%\n",
            "Epoch 03/15  loss=0.1262  val-acc=94.91%\n",
            "Epoch 04/15  loss=0.0982  val-acc=95.29%\n",
            "Epoch 05/15  loss=0.0802  val-acc=95.35%\n",
            "Epoch 06/15  loss=0.0666  val-acc=95.35%\n",
            "Epoch 07/15  loss=0.0587  val-acc=95.38%\n",
            "Epoch 08/15  loss=0.0526  val-acc=95.62%\n",
            "Epoch 09/15  loss=0.0445  val-acc=95.67%\n",
            "Epoch 10/15  loss=0.0452  val-acc=95.54%\n",
            "Epoch 11/15  loss=0.0356  val-acc=95.67%\n",
            "Epoch 12/15  loss=0.0368  val-acc=95.73%\n",
            "Epoch 13/15  loss=0.0309  val-acc=95.76%\n",
            "Epoch 14/15  loss=0.0302  val-acc=95.28%\n",
            "Epoch 15/15  loss=0.0302  val-acc=95.44%\n"
          ]
        }
      ]
    },
    {
      "cell_type": "markdown",
      "source": [
        "###run predictions"
      ],
      "metadata": {
        "id": "g9fjb266W0qf"
      }
    },
    {
      "cell_type": "code",
      "source": [
        "model.eval()\n",
        "running_loss = 0.0\n",
        "all_preds, all_targets = [], []\n",
        "\n",
        "with torch.no_grad():\n",
        "    for x, y in test_loader:\n",
        "        x, y = x.to(device), y.to(device)\n",
        "        logits = model(x)\n",
        "        loss   = criterion(logits, y)\n",
        "\n",
        "        running_loss += loss.item() * x.size(0)\n",
        "        all_preds.append(logits.argmax(dim=1).cpu())\n",
        "        all_targets.append(y.cpu())\n",
        "\n",
        "test_loss = running_loss / len(test_loader.dataset)\n",
        "y_pred = torch.cat(all_preds)\n",
        "y_true = torch.cat(all_targets)\n",
        "accuracy = (y_pred == y_true).float().mean().item()\n",
        "\n",
        "print(f\"\\nTest cross-entropy : {test_loss:.4f}\")\n",
        "print(f\"Test accuracy      : {accuracy*100:5.2f} %\")\n"
      ],
      "metadata": {
        "colab": {
          "base_uri": "https://localhost:8080/"
        },
        "id": "0Syv4hLCWRKI",
        "outputId": "c0d18f7c-6802-4b98-8d13-486972fcfa88"
      },
      "execution_count": null,
      "outputs": [
        {
          "output_type": "stream",
          "name": "stdout",
          "text": [
            "\n",
            "Test cross-entropy : 0.1636\n",
            "Test accuracy      : 95.44 %\n"
          ]
        }
      ]
    },
    {
      "cell_type": "markdown",
      "source": [
        "###Confusion matrix"
      ],
      "metadata": {
        "id": "DKX1zOu7WvUu"
      }
    },
    {
      "cell_type": "code",
      "source": [
        "cm = confusion_matrix(y_true, y_pred)\n",
        "per_class_acc = cm.diagonal() / cm.sum(1)\n",
        "\n",
        "print(\"\\nPer-class accuracy\")\n",
        "for cls, acc in enumerate(per_class_acc):\n",
        "    print(f\"  {cls} : {acc*100:5.2f} %\")\n",
        "\n",
        "print(\"\\nDetailed report:\")\n",
        "print(classification_report(y_true, y_pred, digits=4))\n",
        "\n",
        "print(\"\\nConfusion matrix\")\n",
        "print(cm)"
      ],
      "metadata": {
        "colab": {
          "base_uri": "https://localhost:8080/"
        },
        "id": "TFZUeIW-WsMx",
        "outputId": "4832c132-de6e-462b-b5c0-f86b4c487303"
      },
      "execution_count": null,
      "outputs": [
        {
          "output_type": "stream",
          "name": "stdout",
          "text": [
            "\n",
            "Per-class accuracy\n",
            "  0 : 97.35 %\n",
            "  1 : 98.15 %\n",
            "  2 : 95.16 %\n",
            "  3 : 94.36 %\n",
            "  4 : 94.30 %\n",
            "  5 : 94.28 %\n",
            "  6 : 96.66 %\n",
            "  7 : 94.84 %\n",
            "  8 : 95.07 %\n",
            "  9 : 93.86 %\n",
            "\n",
            "Detailed report:\n",
            "              precision    recall  f1-score   support\n",
            "\n",
            "           0     0.9656    0.9735    0.9695       980\n",
            "           1     0.9824    0.9815    0.9819      1135\n",
            "           2     0.9534    0.9516    0.9525      1032\n",
            "           3     0.9380    0.9436    0.9408      1010\n",
            "           4     0.9497    0.9430    0.9463       982\n",
            "           5     0.9524    0.9428    0.9476       892\n",
            "           6     0.9596    0.9666    0.9631       958\n",
            "           7     0.9596    0.9484    0.9540      1028\n",
            "           8     0.9354    0.9507    0.9430       974\n",
            "           9     0.9442    0.9386    0.9414      1009\n",
            "\n",
            "    accuracy                         0.9544     10000\n",
            "   macro avg     0.9540    0.9540    0.9540     10000\n",
            "weighted avg     0.9544    0.9544    0.9544     10000\n",
            "\n",
            "\n",
            "Confusion matrix\n",
            "[[ 954    0    3    2    1    4   11    1    3    1]\n",
            " [   0 1114    4    2    0    2    3    1    9    0]\n",
            " [  12    6  982    9    2    1    2    6   11    1]\n",
            " [   0    0   10  953    0   15    2   11    9   10]\n",
            " [   3    0    5    2  926    3    8    6    4   25]\n",
            " [   5    1    0   19    3  841    7    2   11    3]\n",
            " [   4    2    2    0    9   10  926    0    5    0]\n",
            " [   3    5   17    8    6    0    0  975    6    8]\n",
            " [   5    5    6   11    1    3    5    4  926    8]\n",
            " [   2    1    1   10   27    4    1   10    6  947]]\n"
          ]
        }
      ]
    },
    {
      "cell_type": "code",
      "source": [],
      "metadata": {
        "id": "DpLrd4x0k8a9"
      },
      "execution_count": null,
      "outputs": []
    }
  ]
}